{
 "cells": [
  {
   "cell_type": "markdown",
   "id": "dc404d47-07a9-4d76-a215-f2b93b75dee2",
   "metadata": {},
   "source": [
    "Q1: What are the Probability Mass Function (PMF) and Probability Density Function (PDF)? Explain with \n",
    "an example."
   ]
  },
  {
   "cell_type": "markdown",
   "id": "628a31af-60ad-4cdb-8b7f-0221022e7108",
   "metadata": {},
   "source": [
    "Solution :"
   ]
  },
  {
   "cell_type": "markdown",
   "id": "34fab118-4300-448b-a6f6-0235726e7c86",
   "metadata": {},
   "source": [
    "The Probability Mass Function(PMF) and Probability Density Function(PDF) are both used to \n",
    "describe the probability distribution of a random variable. \n",
    "\n",
    "The PMF is used for discrete random variables and describes the probability distribution of a \n",
    "discrete random variable. For example, we can use a PMF to calculate the probability of getting exactly three heads in a series of coin flips.\n",
    "\n",
    "On the other hand ,PDF is used for continuous random variables and describes the probability\n",
    "distribution of continuous random variable. For example, probaility distribution of height of  students in a class."
   ]
  },
  {
   "cell_type": "code",
   "execution_count": null,
   "id": "198b669e-2d4a-4e6c-a2be-5260bc055872",
   "metadata": {},
   "outputs": [],
   "source": []
  },
  {
   "cell_type": "markdown",
   "id": "cab27ce9-32e8-40d6-a155-332f8d0fc54a",
   "metadata": {},
   "source": [
    "Q2: What is Cumulative Density Function (CDF)? Explain with an example. Why CDF is used?"
   ]
  },
  {
   "cell_type": "markdown",
   "id": "363d8120-8e3d-455b-822f-eeb14f137702",
   "metadata": {},
   "source": [
    "Solution:"
   ]
  },
  {
   "cell_type": "markdown",
   "id": "af7678ad-446b-4e8d-869d-3a1145908066",
   "metadata": {},
   "source": [
    "The Cumulative Density Function (CDF) is a graph that shows the cumulative distribution of a random variable. It tells us the probability that a random variable takes on a value less than or equal to x. The graph of the CDF is a line that starts at 0 when x is less than the lower endpoint of the support and ends at 1 when x is greater than the upper endpoint of the support.\n",
    "\n",
    "For example, suppose we roll a dice one time. The probability Mass function (PMF) for this random variable is uniform since each outcome has an equal chance of occurring. The CDF for this random variable would be a step function that increases by 1/6 at each integer value from 1 to 6.\n",
    "\n"
   ]
  },
  {
   "cell_type": "code",
   "execution_count": null,
   "id": "899ebc11-2b6e-40f6-84d6-fc05e66b4c92",
   "metadata": {},
   "outputs": [],
   "source": []
  },
  {
   "cell_type": "markdown",
   "id": "e938adf7-01e2-462b-8d66-a69aaf899347",
   "metadata": {},
   "source": [
    "Q3: What are some examples of situations where the normal distribution might be used as a model? \n",
    "Explain how the parameters of the normal distribution relate to the shape of the distribution."
   ]
  },
  {
   "cell_type": "markdown",
   "id": "f590b4a7-ea7c-4da9-a81b-9b66e101cbcf",
   "metadata": {},
   "source": [
    "Solution:"
   ]
  },
  {
   "cell_type": "markdown",
   "id": "4192fe38-5d92-4ac7-ab85-13e48e4bca0d",
   "metadata": {},
   "source": [
    "The normal distribution is used as a model in many situations where the variable being modeled is continuous and takes on values that are symmetrically distributed around the mean. Some examples of such situations include height and intelligence, measurement errors, test scores, birth weight, and many more.\n"
   ]
  },
  {
   "cell_type": "code",
   "execution_count": 8,
   "id": "787924ce-c9a5-4604-a233-4c0a32869df5",
   "metadata": {},
   "outputs": [],
   "source": [
    "import numpy as np\n",
    "import seaborn as sns\n",
    "from scipy import stats"
   ]
  },
  {
   "cell_type": "code",
   "execution_count": 3,
   "id": "b6f3e38e-4ad3-4606-86b6-7af160236ef3",
   "metadata": {},
   "outputs": [],
   "source": [
    "arr = np.random.normal(loc = 4 , scale = 2 , size = 100)"
   ]
  },
  {
   "cell_type": "code",
   "execution_count": 4,
   "id": "0aac3a13-1c7f-47bf-b832-c0d1a25ede88",
   "metadata": {},
   "outputs": [
    {
     "data": {
      "text/plain": [
       "<AxesSubplot: ylabel='Count'>"
      ]
     },
     "execution_count": 4,
     "metadata": {},
     "output_type": "execute_result"
    },
    {
     "data": {
      "image/png": "[encoded data removed]",
      "text/plain": [
       "<Figure size 640x480 with 1 Axes>"
      ]
     },
     "metadata": {},
     "output_type": "display_data"
    }
   ],
   "source": [
    "sns.histplot(arr,kde=True)"
   ]
  },
  {
   "cell_type": "markdown",
   "id": "5ff2cf1d-2a5d-4820-8242-05e05a92c8b5",
   "metadata": {},
   "source": [
    "The normal distribution is characterized by two parameters: the mean (μ) and the standard deviation (σ). The mean determines the center of the distribution while the standard deviation determines the spread of the distribution. "
   ]
  },
  {
   "cell_type": "code",
   "execution_count": null,
   "id": "27d130c0-13c8-4d54-8e94-4e4d45cb10be",
   "metadata": {},
   "outputs": [],
   "source": []
  },
  {
   "cell_type": "markdown",
   "id": "07a7fa08-7a95-452c-89ed-cc40fbf629b4",
   "metadata": {},
   "source": [
    "Q4: Explain the importance of Normal Distribution. Give a few real-life examples of Normal \n",
    "Distribution. "
   ]
  },
  {
   "cell_type": "markdown",
   "id": "3eae4d1f-1417-4be9-8795-b54ee8403592",
   "metadata": {},
   "source": [
    "Solution:"
   ]
  },
  {
   "cell_type": "markdown",
   "id": "2fc4ebe0-1ee2-42fe-9de5-65f529a3a45b",
   "metadata": {},
   "source": [
    "The normal distribution is important because it is a common distribution function for independent, randomly generated variables. It is useful in many ways such as helping companies create fair and profitable business contracts, finding fairly priced materials for production, making deciding the price point for products or services easier, fitting many natural phenomena such as heights, blood pressure, measurement error, and IQ scores, playing a crucial role in asset return calculation and risk management strategy decisions, and being the most common distribution function for independent, randomly generated variables."
   ]
  },
  {
   "cell_type": "code",
   "execution_count": null,
   "id": "2e53c9a3-1a8e-472c-82a3-d6b6a29bd1c2",
   "metadata": {},
   "outputs": [],
   "source": []
  },
  {
   "cell_type": "markdown",
   "id": "7600180d-fbb9-4842-b731-d4cdfb6914ec",
   "metadata": {},
   "source": [
    "Q5: What is Bernaulli Distribution? Give an Example. What is the difference between Bernoulli \n",
    "Distribution and Binomial Distribution?"
   ]
  },
  {
   "cell_type": "markdown",
   "id": "4358b04c-4e63-4db3-a1f2-eced03e8af61",
   "metadata": {},
   "source": [
    "Solution:"
   ]
  },
  {
   "cell_type": "markdown",
   "id": "5be57617-ab1b-4db2-9449-d4df68e310f0",
   "metadata": {},
   "source": [
    "The Bernoulli distribution is a probability distribution that models situations with two possible outcomes. Examples of Bernoulli distribution include a coin toss that results in either heads or tails, a newborn child that is either male or female, a tennis match that is either won or lost, a medical treatment that is either successful or unsuccessful."
   ]
  },
  {
   "cell_type": "markdown",
   "id": "d5d57ebb-55b6-46af-aa91-e490b568f39a",
   "metadata": {},
   "source": [
    "In probability theory and statistics, the binomial distribution is the discrete probability distribution that gives only two possible results in an experiment, either Success or Failure. For example, if we toss a coin, there could be only two possible outcomes: heads or tails.\n",
    "\n",
    "In binomial probability distribution, the number of ‘Success’ in a sequence of n experiments, where each time a question is asked for yes-no, then the boolean-valued outcome is represented either with success/yes/true/one (probability p) or failure/no/false/zero (probability q = 1 − p). A single success/failure test is also called a Bernoulli trial or Bernoulli experiment, and a series of outcomes is called a Bernoulli process. For n = 1, i.e. a single experiment, the binomial distribution is a Bernoulli distribution."
   ]
  },
  {
   "cell_type": "code",
   "execution_count": null,
   "id": "ff469c31-53b2-401b-8f32-6d189f1eae90",
   "metadata": {},
   "outputs": [],
   "source": []
  },
  {
   "cell_type": "markdown",
   "id": "5d6635c3-63a1-4613-aa62-0ab21899baec",
   "metadata": {},
   "source": [
    "Q6. Consider a dataset with a mean of 50 and a standard deviation of 10. If we assume that the dataset \n",
    "is normally distributed, what is the probability that a randomly selected observation will be greater \n",
    "than 60? Use the appropriate formula and show your calculations."
   ]
  },
  {
   "cell_type": "code",
   "execution_count": 10,
   "id": "d1ebb7f5-52c3-438c-8cb0-9226f93a147a",
   "metadata": {},
   "outputs": [],
   "source": [
    "arr = np.random.normal(loc=50,scale=10,size=100)"
   ]
  },
  {
   "cell_type": "code",
   "execution_count": 11,
   "id": "2d747ca8-4e44-4d90-a5fe-676f3c862c50",
   "metadata": {},
   "outputs": [
    {
     "data": {
      "text/plain": [
       "array([41.90548477, 59.99784178, 33.22261029, 49.64514795, 36.00714183,\n",
       "       43.05300024, 56.68853937, 51.5158022 , 60.81504386, 44.36277476,\n",
       "       54.41008499, 36.12252148, 44.67398137, 45.9711522 , 46.44467541,\n",
       "       44.46391137, 59.02744065, 61.35478451, 49.47892528, 25.9396092 ,\n",
       "       55.69837265, 42.86283575, 36.99131832, 45.99368723, 64.89601878,\n",
       "       53.9444709 , 34.33097372, 52.97800569, 45.47200317, 37.26136366,\n",
       "       52.51601307, 45.1275884 , 47.05387065, 67.19424083, 52.59029949,\n",
       "       13.948479  , 57.56005956, 41.34377419, 62.09652263, 52.90952411,\n",
       "       43.25814075, 43.92245363, 46.79016169, 31.78007093, 51.83733456,\n",
       "       51.68400189, 27.19357093, 43.50860888, 49.65761388, 46.98751417,\n",
       "       39.480448  , 51.53387935, 34.92145299, 53.91599691, 42.99754197,\n",
       "       49.63010419, 26.25141655, 63.34707634, 62.78545942, 49.28127666,\n",
       "       52.38537154, 32.97889847, 58.02289598, 60.3567591 , 69.22259909,\n",
       "       35.31709028, 61.34410646, 50.67606704, 59.01183768, 30.8995539 ,\n",
       "       36.38565183, 44.49501243, 57.12769853, 36.65380309, 51.6485939 ,\n",
       "       61.95102272, 56.17831947, 53.11878911, 50.9411258 , 38.87436073,\n",
       "       51.7843062 , 59.80147824, 36.25390743, 54.26482881, 57.48400002,\n",
       "       60.47226872, 51.35177422, 53.1036405 , 47.89937855, 60.83115843,\n",
       "       55.37199226, 52.89651771, 53.43657836, 26.30824253, 50.79497286,\n",
       "       60.66437902, 37.8363911 , 61.8174735 , 38.77170354, 47.74670901])"
      ]
     },
     "execution_count": 11,
     "metadata": {},
     "output_type": "execute_result"
    }
   ],
   "source": [
    "arr"
   ]
  },
  {
   "cell_type": "code",
   "execution_count": 12,
   "id": "e47ab0b6-a2fc-4168-b459-78b8ecdc25f0",
   "metadata": {},
   "outputs": [
    {
     "data": {
      "text/plain": [
       "1.0"
      ]
     },
     "execution_count": 12,
     "metadata": {},
     "output_type": "execute_result"
    }
   ],
   "source": [
    "#  finding zscore of x = 60\n",
    "\n",
    "# formula : (x - mean)/std\n",
    "\n",
    "z_score = (60-50)/10\n",
    "z_score"
   ]
  },
  {
   "cell_type": "markdown",
   "id": "672946d7-9151-4ed4-aefc-e646d389a4be",
   "metadata": {},
   "source": [
    "# when we check in the z table ,we found that 84.13 %  data is present in the area before the x = 60 . Therefore,the probability that a randomly selected observation will be greater than 60 is 1- 0.8413  = 0.1587 "
   ]
  },
  {
   "cell_type": "code",
   "execution_count": null,
   "id": "51c33498-54ca-49c1-bf56-d4526dd296d0",
   "metadata": {},
   "outputs": [],
   "source": []
  },
  {
   "cell_type": "code",
   "execution_count": null,
   "id": "405b3aca-a29a-439d-86aa-5944cddaa87b",
   "metadata": {},
   "outputs": [],
   "source": []
  },
  {
   "cell_type": "markdown",
   "id": "8383ca7b-2857-46c0-b4fb-f08eceee73d8",
   "metadata": {},
   "source": [
    "Q7: Explain uniform Distribution with an example."
   ]
  },
  {
   "cell_type": "markdown",
   "id": "a928c571-ffb9-4569-8b5d-19786956d7c7",
   "metadata": {},
   "source": [
    "Solution:"
   ]
  },
  {
   "cell_type": "markdown",
   "id": "598dea45-45e5-4577-81cd-79ed27d7a2d8",
   "metadata": {},
   "source": [
    "Uniform distribution is of two types:\n",
    "\n",
    "1. Continuous uniform distribbution\n",
    "\n",
    "2. Discrete uniform distribution"
   ]
  },
  {
   "cell_type": "markdown",
   "id": "14bd33f5-a79b-4bb1-a82b-96ad79777af9",
   "metadata": {},
   "source": [
    "1. Continuous uniform distribution: \n",
    "\n",
    "In probability theory and statistics, continuous uniform distribution or rectangular distribution is a family of symmetric probability distributions. The distribution describes an experiment where there is an arbitrary outcome that lies between certain bounds. The bounds are defined with parameters a, and b which are minimum and maximum values. The interval can either be closed i.e [a,b] or open (a,b).\n",
    "\n",
    "pdf = { 1/b-a , if  x in [a,b] ,\n",
    "       \n",
    "       0 , otherwise \n",
    "       }\n",
    "\n",
    "cdf = { 0 , x < a\n",
    "\n",
    "        x-a/b-a , x in [a,b]\n",
    "        \n",
    "        1 , x > b \n",
    "        }\n",
    "        \n",
    "mean = (a+b)/2 = median\n",
    "\n",
    "variance = ((b-a)**2)/12"
   ]
  },
  {
   "cell_type": "markdown",
   "id": "fec47cba-10ea-413d-a5bc-f096ac611c1c",
   "metadata": {},
   "source": [
    "2. Discrete uniform distribution :\n",
    "\n",
    "In probability theory and statistics , discrete uniform distribution is a symmetric probability distribution wherein a finite number of values are equally likely to be observed , every one of n values has equal probability of 1/n. \n",
    "\n",
    "For example , rolling a dice. Possible outcomes are 1,2,3,4,5,6 with a probability of 1/n = 1/6\n",
    "p(1) = p(2) = p(3) = p(4) = p(5) = p(6) = 1/6\n",
    "\n",
    "pmf = 1/n\n",
    "\n",
    "mean = median = (a+b)/2\n"
   ]
  },
  {
   "cell_type": "code",
   "execution_count": null,
   "id": "7eebf6d7-80da-4267-87cb-f9d90732cda9",
   "metadata": {},
   "outputs": [],
   "source": []
  },
  {
   "cell_type": "markdown",
   "id": "8aa09ab9-2ed7-4fdb-a72d-73f9409ac3e1",
   "metadata": {},
   "source": [
    "Q8: What is the z score? State the importance of the z score"
   ]
  },
  {
   "cell_type": "markdown",
   "id": "89883833-cb17-4245-9f7c-9c74f04bbce4",
   "metadata": {},
   "source": [
    "Solution:"
   ]
  },
  {
   "cell_type": "markdown",
   "id": "96805082-e69e-4648-b8e9-b8668171ee2b",
   "metadata": {},
   "source": [
    "A measure of how many standard deviations below or above the population mean a raw score is called z score. It will be positive if the value lies above the mean and negative if it lies below the mean. It is also known as standard score. It indicates how many standard deviations an entity is, from the mean. In order to use a z-score, the mean μ and also the population standard deviation σ should be known. A z score helps to calculate the probability of a score occurring within a standard normal distribution. It also enables us to compare two scores that are from different samples. A table for the values of ϕ, indicating the values of the cumulative distribution function of the normal distribution is termed as a z score table."
   ]
  },
  {
   "cell_type": "markdown",
   "id": "71f7ee3d-afa2-4f85-8d99-5e4e586a8f71",
   "metadata": {},
   "source": [
    "Formula\n",
    "\n",
    "The equation is given by z = (x – μ)/ σ.\n",
    "\n",
    "μ = mean\n",
    "\n",
    "σ = standard deviation\n",
    "\n",
    "x = test value\n",
    "\n",
    "When we have multiple samples and want to describe the standard deviation of those sample means, we use the following formula:\n",
    "\n",
    "z = (x – μ)/ (σ/√n)"
   ]
  },
  {
   "cell_type": "code",
   "execution_count": null,
   "id": "facca631-b0fd-43b7-9f67-32b0581011c2",
   "metadata": {},
   "outputs": [],
   "source": []
  },
  {
   "cell_type": "markdown",
   "id": "68c3164f-54b3-4b13-801d-09951302bc85",
   "metadata": {},
   "source": [
    "Q9: What is Central Limit Theorem? State the significance of the Central Limit Theorem."
   ]
  },
  {
   "cell_type": "markdown",
   "id": "f5f3bc2e-c484-4690-b03d-d17da6799478",
   "metadata": {},
   "source": [
    "Solution:"
   ]
  },
  {
   "attachments": {
    "c3633e23-464b-4242-ad1b-b6400b3d5e3e.png": {
     "image/png": "[encoded data removed]"
    }
   },
   "cell_type": "markdown",
   "id": "09d388cc-5300-453b-b7e5-88985c1400d7",
   "metadata": {},
   "source": [
    "The Central Limit Theorem defines that the mean of all the given samples of a population is the same as the mean of the population(approx) if the sample size is sufficiently large enough with a finite variation.\n",
    "\n",
    "The CLT says that the sampling distribution of the mean will always be normally distributed,\n",
    "as long as the sample size is enough. Regardless of whether the population has a normal,binomial,poisson or any other distribution ,the sampling distribution of the mean will be normal \n",
    "\n",
    "The central limit theorem is applicable for a sufficiently large sample size (n≥30). The formula for central limit theorem can be stated as follows:\n",
    "\n",
    "![image.png](attachment:c3633e23-464b-4242-ad1b-b6400b3d5e3e.png)\n",
    "\n",
    "central limit theorem formula"
   ]
  },
  {
   "cell_type": "markdown",
   "id": "951a0406-8feb-443b-bb39-3cdba081d7d4",
   "metadata": {},
   "source": [
    " # Significance:\n",
    "    \n",
    "One of the most common applications of CLT is in election polls. To calculate the percentage of persons supporting a candidate which are seen on news as confidence intervals.\n",
    "\n",
    "It is also used to measure the mean or average family income of a family in a particular region."
   ]
  },
  {
   "cell_type": "code",
   "execution_count": null,
   "id": "bb5ecd81-8fc1-4f64-8c71-4b8aed3e0cd0",
   "metadata": {},
   "outputs": [],
   "source": []
  },
  {
   "cell_type": "markdown",
   "id": "af1af5ff-4d0e-4ae5-a183-2aa984bba63b",
   "metadata": {},
   "source": [
    "Q10: State the assumptions of the Central Limit Theorem."
   ]
  },
  {
   "cell_type": "markdown",
   "id": "ec3089d6-6cce-4ac0-ac86-c4a6ef66f696",
   "metadata": {},
   "source": [
    "Solution:"
   ]
  },
  {
   "cell_type": "code",
   "execution_count": null,
   "id": "cee2fd92-fd75-468d-9d36-996357f0cc76",
   "metadata": {},
   "outputs": [],
   "source": []
  }
 ],
 "metadata": {
  "kernelspec": {
   "display_name": "Python 3 (ipykernel)",
   "language": "python",
   "name": "python3"
  },
  "language_info": {
   "codemirror_mode": {
    "name": "ipython",
    "version": 3
   },
   "file_extension": ".py",
   "mimetype": "text/x-python",
   "name": "python",
   "nbconvert_exporter": "python",
   "pygments_lexer": "ipython3",
   "version": "3.10.8"
  }
 },
 "nbformat": 4,
 "nbformat_minor": 5
}
